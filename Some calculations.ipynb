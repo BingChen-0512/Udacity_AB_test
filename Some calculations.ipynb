{
 "cells": [
  {
   "cell_type": "code",
   "execution_count": 1,
   "metadata": {},
   "outputs": [],
   "source": [
    "import pandas as pd\n",
    "import numpy as np"
   ]
  },
  {
   "cell_type": "code",
   "execution_count": 48,
   "metadata": {},
   "outputs": [],
   "source": [
    "xls = pd.ExcelFile('Final Project Results.xlsx')\n",
    "df_cont = pd.read_excel(xls, 'Control')\n",
    "df_exp = pd.read_excel(xls, 'Experiment')"
   ]
  },
  {
   "cell_type": "code",
   "execution_count": 58,
   "metadata": {},
   "outputs": [
    {
     "data": {
      "text/plain": [
       "(37, 5)"
      ]
     },
     "execution_count": 58,
     "metadata": {},
     "output_type": "execute_result"
    }
   ],
   "source": [
    "df_cont.shape"
   ]
  },
  {
   "cell_type": "markdown",
   "metadata": {},
   "source": [
    "### Effect Size Test"
   ]
  },
  {
   "cell_type": "code",
   "execution_count": 61,
   "metadata": {},
   "outputs": [],
   "source": [
    "# drop the rows with NaNs\n",
    "df_cont=df_cont.dropna(axis=0)\n",
    "df_exp=df_exp.dropna(axis=0);"
   ]
  },
  {
   "cell_type": "code",
   "execution_count": 62,
   "metadata": {},
   "outputs": [
    {
     "data": {
      "text/plain": [
       "(23, 5)"
      ]
     },
     "execution_count": 62,
     "metadata": {},
     "output_type": "execute_result"
    }
   ],
   "source": [
    "df_cont.shape"
   ]
  },
  {
   "cell_type": "code",
   "execution_count": 63,
   "metadata": {},
   "outputs": [],
   "source": [
    "# For gross conversion\n",
    "X_exp=np.sum(df_exp.Enrollments)\n",
    "X_cont=np.sum(df_cont.Enrollments)\n",
    "N_exp=np.sum(df_exp.Clicks)\n",
    "N_cont=np.sum(df_cont.Clicks)\n",
    "\n",
    "n=1/N_cont+1/N_exp\n",
    "d_observed_gross=X_exp/N_exp-X_cont/N_cont\n",
    "P_pool_gross=(X_cont+X_exp)/(N_cont+N_exp)\n",
    "SE_pool_gross=np.sqrt(P_pool_gross*(1-P_pool_gross)*n)"
   ]
  },
  {
   "cell_type": "code",
   "execution_count": 65,
   "metadata": {},
   "outputs": [
    {
     "data": {
      "text/plain": [
       "(-0.020554874580361565, 0.004371675385225936)"
      ]
     },
     "execution_count": 65,
     "metadata": {},
     "output_type": "execute_result"
    }
   ],
   "source": [
    "d_observed_gross, SE_pool_gross"
   ]
  },
  {
   "cell_type": "code",
   "execution_count": 66,
   "metadata": {},
   "outputs": [],
   "source": [
    "lower=d_observed_gross-1.96*SE_pool_gross\n",
    "upper=d_observed_gross+1.96*SE_pool_gross"
   ]
  },
  {
   "cell_type": "code",
   "execution_count": 67,
   "metadata": {},
   "outputs": [
    {
     "data": {
      "text/plain": [
       "(-0.0291233583354044, -0.01198639082531873)"
      ]
     },
     "execution_count": 67,
     "metadata": {},
     "output_type": "execute_result"
    }
   ],
   "source": [
    "lower, upper"
   ]
  },
  {
   "cell_type": "code",
   "execution_count": 68,
   "metadata": {},
   "outputs": [],
   "source": [
    "# For net conversion\n",
    "X_exp=np.sum(df_exp.Payments)\n",
    "X_cont=np.sum(df_cont.Payments)\n",
    "\n",
    "d_observed_net=X_exp/N_exp-X_cont/N_cont\n",
    "P_pool_net=(X_cont+X_exp)/(N_cont+N_exp)\n",
    "SE_pool_net=np.sqrt(P_pool_net*(1-P_pool_net)*n)"
   ]
  },
  {
   "cell_type": "code",
   "execution_count": 70,
   "metadata": {},
   "outputs": [
    {
     "data": {
      "text/plain": [
       "(-0.011604624359891718, 0.001857179010803383)"
      ]
     },
     "execution_count": 70,
     "metadata": {},
     "output_type": "execute_result"
    }
   ],
   "source": [
    "lower=d_observed_net-1.96*SE_pool_net\n",
    "upper=d_observed_net+1.96*SE_pool_net\n",
    "lower, upper"
   ]
  },
  {
   "cell_type": "markdown",
   "metadata": {},
   "source": [
    "### Sign Tests"
   ]
  },
  {
   "cell_type": "code",
   "execution_count": 72,
   "metadata": {},
   "outputs": [],
   "source": [
    "df_cont['gross_conversion']=df_cont['Enrollments']/df_cont['Clicks']\n",
    "df_cont['net_conversion']=df_cont['Payments']/df_cont['Clicks']\n",
    "df_exp['gross_conversion']=df_exp['Enrollments']/df_exp['Clicks']\n",
    "df_exp['net_conversion']=df_exp['Payments']/df_exp['Clicks']"
   ]
  },
  {
   "cell_type": "code",
   "execution_count": 73,
   "metadata": {},
   "outputs": [],
   "source": [
    "df_sign=pd.DataFrame()\n",
    "df_sign['gross_conversion']=df_exp['gross_conversion']-df_cont['gross_conversion']\n",
    "df_sign['net_conversion']=df_exp['net_conversion']-df_cont['net_conversion']"
   ]
  },
  {
   "cell_type": "code",
   "execution_count": 74,
   "metadata": {},
   "outputs": [
    {
     "data": {
      "text/html": [
       "<div>\n",
       "<style scoped>\n",
       "    .dataframe tbody tr th:only-of-type {\n",
       "        vertical-align: middle;\n",
       "    }\n",
       "\n",
       "    .dataframe tbody tr th {\n",
       "        vertical-align: top;\n",
       "    }\n",
       "\n",
       "    .dataframe thead th {\n",
       "        text-align: right;\n",
       "    }\n",
       "</style>\n",
       "<table border=\"1\" class=\"dataframe\">\n",
       "  <thead>\n",
       "    <tr style=\"text-align: right;\">\n",
       "      <th></th>\n",
       "      <th>gross_conversion</th>\n",
       "      <th>net_conversion</th>\n",
       "    </tr>\n",
       "  </thead>\n",
       "  <tbody>\n",
       "    <tr>\n",
       "      <th>0</th>\n",
       "      <td>-0.041990</td>\n",
       "      <td>-0.052330</td>\n",
       "    </tr>\n",
       "    <tr>\n",
       "      <th>1</th>\n",
       "      <td>-0.040933</td>\n",
       "      <td>0.026065</td>\n",
       "    </tr>\n",
       "    <tr>\n",
       "      <th>2</th>\n",
       "      <td>-0.019691</td>\n",
       "      <td>-0.015144</td>\n",
       "    </tr>\n",
       "    <tr>\n",
       "      <th>3</th>\n",
       "      <td>-0.019735</td>\n",
       "      <td>-0.014353</td>\n",
       "    </tr>\n",
       "    <tr>\n",
       "      <th>4</th>\n",
       "      <td>-0.026474</td>\n",
       "      <td>0.036517</td>\n",
       "    </tr>\n",
       "  </tbody>\n",
       "</table>\n",
       "</div>"
      ],
      "text/plain": [
       "   gross_conversion  net_conversion\n",
       "0         -0.041990       -0.052330\n",
       "1         -0.040933        0.026065\n",
       "2         -0.019691       -0.015144\n",
       "3         -0.019735       -0.014353\n",
       "4         -0.026474        0.036517"
      ]
     },
     "execution_count": 74,
     "metadata": {},
     "output_type": "execute_result"
    }
   ],
   "source": [
    "df_sign.head()"
   ]
  },
  {
   "cell_type": "code",
   "execution_count": 76,
   "metadata": {},
   "outputs": [
    {
     "data": {
      "text/plain": [
       "(23, 2)"
      ]
     },
     "execution_count": 76,
     "metadata": {},
     "output_type": "execute_result"
    }
   ],
   "source": [
    "df_sign.shape"
   ]
  },
  {
   "cell_type": "code",
   "execution_count": 75,
   "metadata": {},
   "outputs": [
    {
     "data": {
      "text/plain": [
       "4"
      ]
     },
     "execution_count": 75,
     "metadata": {},
     "output_type": "execute_result"
    }
   ],
   "source": [
    "(df_sign.gross_conversion>0).sum()"
   ]
  },
  {
   "cell_type": "code",
   "execution_count": 77,
   "metadata": {},
   "outputs": [
    {
     "data": {
      "text/plain": [
       "10"
      ]
     },
     "execution_count": 77,
     "metadata": {},
     "output_type": "execute_result"
    }
   ],
   "source": [
    "(df_sign.net_conversion>0).sum()"
   ]
  },
  {
   "cell_type": "code",
   "execution_count": null,
   "metadata": {},
   "outputs": [],
   "source": []
  }
 ],
 "metadata": {
  "kernelspec": {
   "display_name": "Python 3",
   "language": "python",
   "name": "python3"
  },
  "language_info": {
   "codemirror_mode": {
    "name": "ipython",
    "version": 3
   },
   "file_extension": ".py",
   "mimetype": "text/x-python",
   "name": "python",
   "nbconvert_exporter": "python",
   "pygments_lexer": "ipython3",
   "version": "3.7.1"
  }
 },
 "nbformat": 4,
 "nbformat_minor": 2
}
